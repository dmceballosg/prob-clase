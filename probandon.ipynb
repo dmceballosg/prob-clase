{
  "nbformat": 4,
  "nbformat_minor": 0,
  "metadata": {
    "colab": {
      "name": "Untitled3.ipynb",
      "version": "0.3.2",
      "provenance": [],
      "collapsed_sections": [],
      "include_colab_link": true
    },
    "kernelspec": {
      "name": "python3",
      "display_name": "Python 3"
    }
  },
  "cells": [
    {
      "cell_type": "markdown",
      "metadata": {
        "id": "view-in-github",
        "colab_type": "text"
      },
      "source": [
        "<a href=\"https://colab.research.google.com/github/dmceballosg/prob-clase/blob/master/probandon.ipynb\" target=\"_parent\"><img src=\"https://colab.research.google.com/assets/colab-badge.svg\" alt=\"Open In Colab\"/></a>"
      ]
    },
    {
      "cell_type": "code",
      "metadata": {
        "id": "UcN3fTv_w4Ks",
        "colab_type": "code",
        "colab": {}
      },
      "source": [
        "\n"
      ],
      "execution_count": 0,
      "outputs": []
    },
    {
      "cell_type": "code",
      "metadata": {
        "id": "FMTdW6yoxBe4",
        "colab_type": "code",
        "colab": {}
      },
      "source": [
        "#este es un titulo"
      ],
      "execution_count": 0,
      "outputs": []
    },
    {
      "cell_type": "markdown",
      "metadata": {
        "id": "yLF_B8ILxS6m",
        "colab_type": "text"
      },
      "source": [
        ""
      ]
    },
    {
      "cell_type": "markdown",
      "metadata": {
        "id": "_jIZ5LK6xW2U",
        "colab_type": "text"
      },
      "source": [
        "#jejej"
      ]
    },
    {
      "cell_type": "markdown",
      "metadata": {
        "id": "aXD7Xq-TxZiw",
        "colab_type": "text"
      },
      "source": [
        "**jojojo**"
      ]
    },
    {
      "cell_type": "markdown",
      "metadata": {
        "id": "gdv9S_P-xgrZ",
        "colab_type": "text"
      },
      "source": [
        "esta es $x^2$ dentro de un texto pero esta $$x= a x + b $$ jeje\n"
      ]
    },
    {
      "cell_type": "markdown",
      "metadata": {
        "id": "GqoW1_KQyDbW",
        "colab_type": "text"
      },
      "source": [
        "<a href=\"http://www.google.com\">google</a>\n",
        "<table>\n",
        "  <thead>\n",
        "    <tr>\n",
        "      <th>col1</th>\n",
        "      <th>col2</th>\n",
        "    </tr>\n",
        "  </thead>\n",
        "  <tbody>\n",
        "    <tr>\n",
        "      <td>jeje</td>\n",
        "      <td>hoho</td>\n",
        "    <tr>\n",
        "      <td>jojo</td>\n",
        "      <td>kak</td>\n",
        "    <tr>\n",
        "  </tbody>\n",
        "</table>\n",
        "\n"
      ]
    },
    {
      "cell_type": "markdown",
      "metadata": {
        "id": "bqfARMPKy-n9",
        "colab_type": "text"
      },
      "source": [
        ""
      ]
    },
    {
      "cell_type": "code",
      "metadata": {
        "id": "bSvr_iMOxYRu",
        "colab_type": "code",
        "colab": {}
      },
      "source": [
        "##nbviewer jupyter"
      ],
      "execution_count": 0,
      "outputs": []
    },
    {
      "cell_type": "code",
      "metadata": {
        "id": "9tAkOkY32hlk",
        "colab_type": "code",
        "colab": {}
      },
      "source": [
        "#Machine learning for hacker"
      ],
      "execution_count": 0,
      "outputs": []
    }
  ]
}